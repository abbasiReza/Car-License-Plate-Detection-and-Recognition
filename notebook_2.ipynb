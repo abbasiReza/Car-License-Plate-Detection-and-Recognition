{
 "cells": [
  {
   "cell_type": "code",
   "execution_count": 11,
   "metadata": {},
   "outputs": [],
   "source": [
    "with open('E:/code/partdp/final/3.txt', 'r') as txt_file:\n",
    "        lines = txt_file.readlines()\n",
    "        xs=[int(line.strip().split(',')[0]) for line in lines]\n",
    "        ys=[int(line.strip().split(',')[1]) for line in lines]\n",
    "\n",
    "        # coordinates = [int(coord.strip().split(',')) for coord in lines]"
   ]
  },
  {
   "cell_type": "code",
   "execution_count": 14,
   "metadata": {},
   "outputs": [
    {
     "data": {
      "text/plain": [
       "['409,207\\n', '558,96\\n', '582,129\\n', '433,240\\n']"
      ]
     },
     "execution_count": 14,
     "metadata": {},
     "output_type": "execute_result"
    }
   ],
   "source": [
    "lines"
   ]
  },
  {
   "cell_type": "code",
   "execution_count": 16,
   "metadata": {},
   "outputs": [
    {
     "data": {
      "text/plain": [
       "240"
      ]
     },
     "execution_count": 16,
     "metadata": {},
     "output_type": "execute_result"
    }
   ],
   "source": [
    "max(ys)"
   ]
  },
  {
   "cell_type": "code",
   "execution_count": 19,
   "metadata": {},
   "outputs": [],
   "source": [
    "import os\n",
    "from PIL import Image\n",
    "import xml.etree.ElementTree as ET\n",
    "\n",
    "def read_coordinates_from_txt(txt_path):\n",
    "    with open(txt_path, 'r') as txt_file:\n",
    "        lines = txt_file.readlines()\n",
    "        xs=[int(line.strip().split(',')[0]) for line in lines]\n",
    "        ys=[int(line.strip().split(',')[1]) for line in lines]\n",
    "    return [min(xs),min(ys),max(xs),max(ys)]\n",
    "\n",
    "def create_xml_file(image_folder, txt_folder, output_folder):\n",
    "    image_files = [file for file in os.listdir(image_folder) if file.endswith('.png')]\n",
    "\n",
    "    for image_file in image_files:\n",
    "        image_path = os.path.join(image_folder, image_file)\n",
    "        txt_path = os.path.join(txt_folder, image_file.replace('.png', '.txt'))\n",
    "        output_path = os.path.join(output_folder, image_file.replace('.png', '.xml'))\n",
    "\n",
    "        coordinates = read_coordinates_from_txt(txt_path)\n",
    "\n",
    "        # Extract coordinates from the list\n",
    "        x_min, y_min, x_max, y_max = coordinates\n",
    "\n",
    "        # Get image size\n",
    "        with Image.open(image_path) as img:\n",
    "            width, height = img.size\n",
    "\n",
    "        # Create XML tree and elements\n",
    "        annotation = ET.Element(\"annotation\")\n",
    "        folder = ET.SubElement(annotation, \"folder\")\n",
    "        filename = ET.SubElement(annotation, \"filename\")\n",
    "        path = ET.SubElement(annotation, \"path\")\n",
    "        source = ET.SubElement(annotation, \"source\")\n",
    "        database = ET.SubElement(source, \"database\")\n",
    "        size = ET.SubElement(annotation, \"size\")\n",
    "        width_elem = ET.SubElement(size, \"width\")\n",
    "        height_elem = ET.SubElement(size, \"height\")\n",
    "        depth = ET.SubElement(size, \"depth\")\n",
    "        segmented = ET.SubElement(annotation, \"segmented\")\n",
    "        obj = ET.SubElement(annotation, \"object\")\n",
    "        name = ET.SubElement(obj, \"name\")\n",
    "        pose = ET.SubElement(obj, \"pose\")\n",
    "        truncated = ET.SubElement(obj, \"truncated\")\n",
    "        difficult = ET.SubElement(obj, \"difficult\")\n",
    "        bndbox = ET.SubElement(obj, \"bndbox\")\n",
    "        xmin_elem = ET.SubElement(bndbox, \"xmin\")\n",
    "        ymin_elem = ET.SubElement(bndbox, \"ymin\")\n",
    "        xmax_elem = ET.SubElement(bndbox, \"xmax\")\n",
    "        ymax_elem = ET.SubElement(bndbox, \"ymax\")\n",
    "\n",
    "        # Fill in the elements with data\n",
    "        folder.text = \"car\"\n",
    "        filename.text = image_file\n",
    "        path.text = image_path\n",
    "        database.text = \"Unknown\"\n",
    "        width_elem.text = str(width)\n",
    "        height_elem.text = str(height)\n",
    "        depth.text = \"3\"\n",
    "        segmented.text = \"0\"\n",
    "        name.text = \"car\"\n",
    "        pose.text = \"Unspecified\"\n",
    "        truncated.text = \"0\"\n",
    "        difficult.text = \"0\"\n",
    "        xmin_elem.text = str(x_min)\n",
    "        ymin_elem.text = str(y_min)\n",
    "        xmax_elem.text = str(x_max)\n",
    "        ymax_elem.text = str(y_max)\n",
    "\n",
    "        # Create and save the XML file\n",
    "        tree = ET.ElementTree(annotation)\n",
    "        tree.write(output_path)\n",
    "\n",
    "# Example usage:\n",
    "image_folder = \"E:/code/partdp/final\"\n",
    "txt_folder = \"E:/code/partdp/final\"\n",
    "output_folder = \"E:/code/partdp/xml\"\n",
    "create_xml_file(image_folder, txt_folder, output_folder)\n"
   ]
  },
  {
   "cell_type": "code",
   "execution_count": null,
   "metadata": {},
   "outputs": [],
   "source": []
  }
 ],
 "metadata": {
  "kernelspec": {
   "display_name": "BRACS2",
   "language": "python",
   "name": "python3"
  },
  "language_info": {
   "codemirror_mode": {
    "name": "ipython",
    "version": 3
   },
   "file_extension": ".py",
   "mimetype": "text/x-python",
   "name": "python",
   "nbconvert_exporter": "python",
   "pygments_lexer": "ipython3",
   "version": "3.9.16"
  },
  "orig_nbformat": 4
 },
 "nbformat": 4,
 "nbformat_minor": 2
}
